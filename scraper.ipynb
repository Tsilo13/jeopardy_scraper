{
 "cells": [
  {
   "cell_type": "code",
   "execution_count": null,
   "metadata": {
    "vscode": {
     "languageId": "plaintext"
    }
   },
   "outputs": [],
   "source": [
    "import requests  # For making HTTP requests\n",
    "from bs4 import BeautifulSoup  # For parsing HTML\n",
    "import json  # For storing scraped data\n",
    "import os  # For file operations\n",
    "import time  # To add delays between requests (avoid being blocked)\n",
    "\n",
    "URL = \"https://www.j-archive.com/showseason.php?season=33\"\n",
    "page = requests.get(URL)\n",
    "soup = BeautifulSoup(page.content, \"html.parser\")"
   ]
  },
  {
   "cell_type": "code",
   "execution_count": null,
   "metadata": {
    "vscode": {
     "languageId": "plaintext"
    }
   },
   "outputs": [],
   "source": [
    "for episode in episodes_json_array:\n",
    "    episode_url = episode[\"URL\"]\n",
    "    file_path = f\"data/episod_{game_id}.json\"\n",
    "    \n",
    "    # make request before status check\n",
    "    try:\n",
    "        response = requests.get(episode_url, timeout=5)  # Set timeout\n",
    "    except requests.exceptions.RequestException as e:\n",
    "        print(f\"Request failed for {episode_url}: {e}\")\n",
    "        continue\n",
    "\n",
    "\n",
    "    if response.status_code != 200: # status check\n",
    "        print(f\"HTTP request unsuccessful for {episode_url}\")\n",
    "        continue # skips to next episode\n",
    "\n",
    "    with open(file_path, \"w\", encoding=\"utf-8\") as f:\n",
    "        json.dump(episode_data, f, indent=4)\n",
    "        print(f\"Saved episode {game_id} to {file_path}\")"
   ]
  },
  {
   "cell_type": "markdown",
   "metadata": {},
   "source": []
  },
  {
   "cell_type": "code",
   "execution_count": null,
   "metadata": {
    "vscode": {
     "languageId": "plaintext"
    }
   },
   "outputs": [],
   "source": []
  }
 ],
 "metadata": {
  "language_info": {
   "name": "python"
  }
 },
 "nbformat": 4,
 "nbformat_minor": 2
}
